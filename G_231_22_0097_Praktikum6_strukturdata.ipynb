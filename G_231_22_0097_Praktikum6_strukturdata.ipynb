{
  "nbformat": 4,
  "nbformat_minor": 0,
  "metadata": {
    "colab": {
      "provenance": [],
      "authorship_tag": "ABX9TyNUosRpevisDZqeSUDczez0",
      "include_colab_link": true
    },
    "kernelspec": {
      "name": "python3",
      "display_name": "Python 3"
    },
    "language_info": {
      "name": "python"
    }
  },
  "cells": [
    {
      "cell_type": "markdown",
      "metadata": {
        "id": "view-in-github",
        "colab_type": "text"
      },
      "source": [
        "<a href=\"https://colab.research.google.com/github/kholiqhidayat/Praktikum6_G.31.22.0097/blob/main/G_231_22_0097_Praktikum6_strukturdata.ipynb\" target=\"_parent\"><img src=\"https://colab.research.google.com/assets/colab-badge.svg\" alt=\"Open In Colab\"/></a>"
      ]
    },
    {
      "cell_type": "code",
      "execution_count": 1,
      "metadata": {
        "colab": {
          "base_uri": "https://localhost:8080/"
        },
        "id": "KI1abn-bVTEE",
        "outputId": "8adcf667-c2a3-4c8f-8a4a-89b651685690"
      },
      "outputs": [
        {
          "output_type": "stream",
          "name": "stdout",
          "text": [
            "deque(['Ram', 'Tarun'])\n",
            "deque(['Ram', 'Tarun', 'Akbar'])\n",
            "deque(['Ram', 'Tarun', 'Akbar', 'Birbal'])\n",
            "Ram\n",
            "Tarun\n",
            "deque(['Akbar', 'Birbal'])\n",
            "deque(['Akbar', 'Birbal', 'Asif', 'John'])\n"
          ]
        }
      ],
      "source": [
        "from collections import deque\n",
        "\n",
        "# Membuat deque\n",
        "gueue = deque([\"Ram\", \"Tarun\"])\n",
        "print(gueue)\n",
        "\n",
        "# Menambahkan elemen ke kanan\n",
        "gueue.append(\"Akbar\")\n",
        "print(gueue)\n",
        "\n",
        "gueue.append(\"Birbal\")\n",
        "print(gueue)\n",
        "\n",
        "# Menghapus elemen dari kiri\n",
        "print(gueue.popleft())\n",
        "print(gueue.popleft())\n",
        "\n",
        "print(gueue)\n",
        "\n",
        "# Menambahkan elemen menggunakan koma\n",
        "gueue.extend([\"Asif\", \"John\"])\n",
        "print(gueue)\n"
      ]
    },
    {
      "cell_type": "code",
      "source": [
        "def TowerOfHanoi(n, dr, menuju, bantuan):\n",
        "    # Kasus dasar: jika jumlah disk n adalah 0, kembalikan\n",
        "    if n == 0:\n",
        "        return\n",
        "\n",
        "    # Pindahkan n-1 disk dari dr ke bantuan, menggunakan menuju sebagai bantuan\n",
        "    TowerOfHanoi(n-1, dr, bantuan, menuju)\n",
        "\n",
        "    # Pindahkan disk n dari dr ke menuju\n",
        "    print(\"Pindah disk\", n, \"dari\", dr, \"ke\", menuju)\n",
        "\n",
        "    # Pindahkan n-1 disk dari bantuan ke menuju, menggunakan dr sebagai bantuan\n",
        "    TowerOfHanoi(n-1, bantuan, dr, menuju)\n",
        "\n",
        "# Kode pengguna\n",
        "N = 3\n",
        "# 'A', 'C', 'B' adalah nama-nama tongkat\n",
        "TowerOfHanoi(N, 'A', 'C', 'B')\n"
      ],
      "metadata": {
        "colab": {
          "base_uri": "https://localhost:8080/"
        },
        "id": "v1ivL1vxW-0M",
        "outputId": "fabefbb8-4e13-48ff-ca1f-daa97251fa7b"
      },
      "execution_count": 2,
      "outputs": [
        {
          "output_type": "stream",
          "name": "stdout",
          "text": [
            "Pindah disk 1 dari A ke C\n",
            "Pindah disk 2 dari A ke B\n",
            "Pindah disk 1 dari C ke A\n",
            "Pindah disk 3 dari A ke C\n",
            "Pindah disk 1 dari B ke C\n",
            "Pindah disk 2 dari B ke A\n",
            "Pindah disk 1 dari C ke B\n"
          ]
        }
      ]
    },
    {
      "cell_type": "code",
      "source": [
        "def sortStack(input):\n",
        "    # Stack sementara untuk menyimpan elemen-elemen yang akan diurutkan\n",
        "    tmpStack = []\n",
        "\n",
        "    while len(input) > 0:\n",
        "        # Ambil dan hapus elemen pertama dari stack input\n",
        "        tmp = input[-1]\n",
        "        input.pop()\n",
        "\n",
        "        # Selama stack sementara tidak kosong dan elemen teratas lebih kecil dari tmp\n",
        "        while len(tmpStack) > 0 and tmpStack[-1] < tmp:\n",
        "            # Pop dari stack sementara dan tambahkan ke stack input\n",
        "            input.append(tmpStack[-1])\n",
        "            tmpStack.pop()\n",
        "\n",
        "        # Tambahkan tmp ke stack sementara\n",
        "        tmpStack.append(tmp)\n",
        "\n",
        "    # Kembalikan stack sementara yang sudah diurutkan\n",
        "    return tmpStack\n",
        "\n",
        "def sortArrayUsingStacks(arr, n):\n",
        "    # Stack input untuk menyimpan elemen-elemen array\n",
        "    input_stack = []\n",
        "\n",
        "    i = 0\n",
        "    while i < n:\n",
        "        # Tambahkan elemen-elemen array ke stack input\n",
        "        input_stack.append(arr[i])\n",
        "        i = i + 1\n",
        "\n",
        "    # Urutkan stack sementara\n",
        "    tmpStack = sortStack(input_stack)\n",
        "\n",
        "    # Masukkan elemen-elemen stack kembali ke dalam array arr\n",
        "    i = 0\n",
        "    while tmpStack:\n",
        "        arr[i] = tmpStack[-1]\n",
        "        tmpStack.pop()\n",
        "        i = i + 1\n",
        "\n",
        "    # Kembalikan array yang telah diurutkan\n",
        "    return arr\n",
        "\n",
        "# Driver code\n",
        "arr = [10, 5, 15, 45]\n",
        "n = len(arr)\n",
        "\n",
        "# Panggil fungsi untuk mengurutkan array menggunakan stack\n",
        "arr = sortArrayUsingStacks(arr, n)\n",
        "\n",
        "# Cetak array yang telah diurutkan\n",
        "i = 0\n",
        "while i < n:\n",
        "    print(arr[i], end=\" \")\n",
        "    i = i + 1\n"
      ],
      "metadata": {
        "colab": {
          "base_uri": "https://localhost:8080/"
        },
        "id": "E0LYvvi1ZPJ8",
        "outputId": "dad859f7-4b1b-46fc-e74c-20b366b5eb50"
      },
      "execution_count": 6,
      "outputs": [
        {
          "output_type": "stream",
          "name": "stdout",
          "text": [
            "5 10 15 45 "
          ]
        }
      ]
    }
  ]
}